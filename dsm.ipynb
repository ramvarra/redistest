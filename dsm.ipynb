{
 "cells": [
  {
   "cell_type": "code",
   "execution_count": 9,
   "metadata": {
    "collapsed": true
   },
   "outputs": [],
   "source": [
    "import os, sys, datetime\n",
    "import redis\n",
    "import platform\n",
    "import json"
   ]
  },
  {
   "cell_type": "code",
   "execution_count": 6,
   "metadata": {
    "collapsed": false
   },
   "outputs": [
    {
     "data": {
      "text/plain": [
       "'RRVARRA-HOME'"
      ]
     },
     "execution_count": 6,
     "metadata": {},
     "output_type": "execute_result"
    }
   ],
   "source": []
  },
  {
   "cell_type": "code",
   "execution_count": 66,
   "metadata": {
    "collapsed": true
   },
   "outputs": [],
   "source": [
    "class RedisDSMClient:\n",
    "    def __init__(self, server='rrvarravlx', queue_name='DSM_QUEUE'):\n",
    "        self.rs = redis.Redis(server)\n",
    "        self.queue_name = queue_name\n",
    "        self.msg_counter = 0\n",
    "        self.host = platform.node()\n",
    "        \n",
    "    def send(self):\n",
    "        ts = datetime.datetime.now().isoformat()\n",
    "        self.msg_counter += 1        \n",
    "        evt = dict(host=self.host, level='CRITICAL', ts=ts, description=\"CPU Hung\", msgid=self.msg_counter)\n",
    "        assert self.rs.rpush(self.queue_name, json.dumps(evt)), \"Failed to send evt: {}\".format(evt)\n",
    "        \n",
    "    def receive(self):\n",
    "        queue, jevt = self.rs.blpop(self.queue_name)\n",
    "        print(jevt)\n",
    "        #assert queue == self.queue_name, \"In queue {} does not match {}\".format(queue, self.queue_name)\n",
    "        assert jevt, \"Failed to get event from queue: {}\".format(self.queue_name)\n",
    "        return json.loads(jevt.decode('utf-8'))"
   ]
  },
  {
   "cell_type": "code",
   "execution_count": 67,
   "metadata": {
    "collapsed": false
   },
   "outputs": [],
   "source": [
    "rs = RedisDSMClient()"
   ]
  },
  {
   "cell_type": "code",
   "execution_count": null,
   "metadata": {
    "collapsed": false
   },
   "outputs": [
    {
     "name": "stdout",
     "output_type": "stream",
     "text": [
      "b'{\"id\":1}'\n",
      "{'id': 1}\n",
      "b'{\"id\":1}'\n",
      "{'id': 1}\n",
      "b'{\"id\":1}'\n",
      "{'id': 1}\n",
      "b'{\"id\":1,\"host\":\"hello\"}'\n",
      "{'host': 'hello', 'id': 1}\n",
      "b'{\"id\":1,\"host\":\"hello\"}'\n",
      "{'host': 'hello', 'id': 1}\n"
     ]
    }
   ],
   "source": [
    "while True:\n",
    "    print(rs.receive())"
   ]
  },
  {
   "cell_type": "code",
   "execution_count": 89,
   "metadata": {
    "collapsed": false
   },
   "outputs": [
    {
     "name": "stdout",
     "output_type": "stream",
     "text": [
      "b'{\"id\":1}'\n"
     ]
    },
    {
     "data": {
      "text/plain": [
       "{'id': 1}"
      ]
     },
     "execution_count": 89,
     "metadata": {},
     "output_type": "execute_result"
    }
   ],
   "source": [
    "rs.receive()"
   ]
  },
  {
   "cell_type": "code",
   "execution_count": 63,
   "metadata": {
    "collapsed": false
   },
   "outputs": [
    {
     "data": {
      "text/plain": [
       "'{\"host\": \"ME\", \"id\": 1}'"
      ]
     },
     "execution_count": 63,
     "metadata": {},
     "output_type": "execute_result"
    }
   ],
   "source": [
    "json.dumps(dict(id=1, host=\"ME\"))"
   ]
  },
  {
   "cell_type": "code",
   "execution_count": 17,
   "metadata": {
    "collapsed": true
   },
   "outputs": [],
   "source": [
    "rs.lpush?"
   ]
  },
  {
   "cell_type": "code",
   "execution_count": null,
   "metadata": {
    "collapsed": true
   },
   "outputs": [],
   "source": []
  }
 ],
 "metadata": {
  "kernelspec": {
   "display_name": "Python 3",
   "language": "python",
   "name": "python3"
  },
  "language_info": {
   "codemirror_mode": {
    "name": "ipython",
    "version": 3
   },
   "file_extension": ".py",
   "mimetype": "text/x-python",
   "name": "python",
   "nbconvert_exporter": "python",
   "pygments_lexer": "ipython3",
   "version": "3.5.1"
  }
 },
 "nbformat": 4,
 "nbformat_minor": 0
}
